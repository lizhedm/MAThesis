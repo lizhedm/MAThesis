{
 "cells": [
  {
   "cell_type": "code",
   "execution_count": 48,
   "metadata": {
    "scrolled": false
   },
   "outputs": [
    {
     "data": {
      "image/png": "[encoded data removed]",
      "text/plain": [
       "<Figure size 662.4x216 with 1 Axes>"
      ]
     },
     "metadata": {
      "needs_background": "light"
     },
     "output_type": "display_data"
    }
   ],
   "source": [
    "import numpy as np\n",
    "import matplotlib.pyplot as plt\n",
    "\n",
    "\n",
    "\n",
    "results1 = {\n",
    "    '''Q1: I will watch one movie \n",
    "    in the future every''': [2, 0, 16, 1, 1],\n",
    "    '''Q2: I will visit a movie recommendation \n",
    "    website I think in the future every''': [1, 2, 14, 1, 2],\n",
    "    '''Q5: I will use a Recommend System \n",
    "    I think in the future once every''': [1, 2, 12, 5, 0]\n",
    "}\n",
    "category_names1 = ['1 day', '3 days',\n",
    "                  '7 days', '14 days', '30 days and above']\n",
    "\n",
    "results2 = {\n",
    "    '''Q11: What's your score for \n",
    "    recommendation style in round 1''': [0, 5, 11, 3, 1],\n",
    "    '''Q12: What's your score for \n",
    "    recommendation style in round 2''': [1, 3, 11, 4, 1],\n",
    "    '''Q13: What's your score for \n",
    "    recommendation style in round 3''': [1, 1, 8, 8, 2]\n",
    "}\n",
    "category_names2 = ['1 point', '2 points',\n",
    "                  '3 points', '4 points', '5 points']\n",
    "\n",
    "category_names3 = ['Strongly disagree', 'Disagree',\n",
    "                  'Neither agree nor disagree', 'Agree', 'Strongly agree']\n",
    "results3 = {\n",
    "    '''Q3: I have know Recommendation  \n",
    "    System more after the User Study''': [1, 7, 6, 6, 0],\n",
    "    '''Q4: I have know Explainable \n",
    "    Recommendation System more after the User Study''': [1, 5, 7, 2, 5],\n",
    "    '''Q6: My overall experience with \n",
    "    Recommend System after the \n",
    "    User Study is very well.''': [1, 6, 7, 4, 2],\n",
    "    '''Q7: I think that this recommendation\n",
    "    system recommended the right movies to me.''': [2, 5, 6, 6, 1],\n",
    "    '''Q8: The explanation adaptation (from round1\n",
    "    to round2 to round3) is helpful to improve\n",
    "    the explainability of this Recommend System.''': [0, 5, 12, 2, 1],\n",
    "    '''Q9: I think that the recommended movies\n",
    "    are more and more in line with what I\n",
    "    expect (from round1 to round2 to round3).''': [2, 2, 10, 5, 1],\n",
    "    '''Q10: I think that the recommended movies\n",
    "    are more and more in line with what I \n",
    "    really need (from round1 to round2 to round3).''': [1, 4, 12, 2, 1],\n",
    "    '''Q14: I think there are many explanation types\n",
    "    for this movie recommendation system.''':[1, 3, 11, 4, 1],\n",
    "    '''Q15: I think this movie recommendation \n",
    "    system often recommends new movies, \n",
    "    which I have never seen, to me.''':[1, 3, 11, 3, 2],\n",
    "    '''Q16: I think this movie recommendation \n",
    "    system recommends movies that do not match\n",
    "    with me, but I am satisfied with that.''':[0, 8, 5, 4, 3],\n",
    "    '''Q17: I can understand the reasons given \n",
    "    by the movie recommendation \n",
    "    system and believe them.''':[1, 5, 11, 1, 2]\n",
    "}\n",
    "\n",
    "def survey(results, category_names):\n",
    "    \"\"\"\n",
    "    Parameters\n",
    "    ----------\n",
    "    results : dict\n",
    "        A mapping from question labels to a list of answers per category.\n",
    "        It is assumed all lists contain the same number of entries and that\n",
    "        it matches the length of *category_names*.\n",
    "    category_names : list of str\n",
    "        The category labels.\n",
    "    \"\"\"\n",
    "    labels = list(results.keys())\n",
    "    data = np.array(list(results.values()))\n",
    "    data_cum = data.cumsum(axis=1)\n",
    "    category_colors = plt.get_cmap('coolwarm')(\n",
    "        np.linspace(0.15, 0.85, data.shape[1]))\n",
    "\n",
    "    fig, ax = plt.subplots(figsize=(9.2, 3))\n",
    "    ax.invert_yaxis()\n",
    "    ax.xaxis.set_visible(False)\n",
    "    ax.set_xlim(0, np.sum(data, axis=1).max())\n",
    "\n",
    "    for i, (colname, color) in enumerate(zip(category_names, category_colors)):\n",
    "        widths = data[:, i]\n",
    "        starts = data_cum[:, i] - widths\n",
    "        ax.barh(labels, widths, left=starts, height=0.5,\n",
    "                label=colname, color=color)\n",
    "        xcenters = starts + widths / 2\n",
    "\n",
    "        r, g, b, _ = color\n",
    "        text_color = 'white' if r * g * b < 0.5 else 'darkgrey'\n",
    "        for y, (x, c) in enumerate(zip(xcenters, widths)):\n",
    "            ax.text(x, y, str(int(c)), ha='center', va='center',\n",
    "                    color=text_color)\n",
    "    ax.legend(ncol=len(category_names), bbox_to_anchor=(0, 1),\n",
    "              loc='lower left', fontsize='small')\n",
    "\n",
    "    return fig, ax\n",
    "\n",
    "\n",
    "survey(results2, category_names2)\n",
    "plt.show()"
   ]
  },
  {
   "cell_type": "code",
   "execution_count": null,
   "metadata": {},
   "outputs": [],
   "source": []
  }
 ],
 "metadata": {
  "kernelspec": {
   "display_name": "Python 3",
   "language": "python",
   "name": "python3"
  },
  "language_info": {
   "codemirror_mode": {
    "name": "ipython",
    "version": 3
   },
   "file_extension": ".py",
   "mimetype": "text/x-python",
   "name": "python",
   "nbconvert_exporter": "python",
   "pygments_lexer": "ipython3",
   "version": "3.7.1"
  }
 },
 "nbformat": 4,
 "nbformat_minor": 4
}
